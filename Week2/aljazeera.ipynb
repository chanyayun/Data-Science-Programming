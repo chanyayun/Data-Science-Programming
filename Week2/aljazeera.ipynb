{
 "cells": [
  {
   "cell_type": "code",
   "execution_count": 1,
   "metadata": {},
   "outputs": [],
   "source": [
    "from selenium import webdriver\n",
    "from pyquery import PyQuery as pq"
   ]
  },
  {
   "cell_type": "code",
   "execution_count": 2,
   "metadata": {},
   "outputs": [],
   "source": [
    "driver = webdriver.Chrome(\"../../../../pytest/chromedriver.exe\")"
   ]
  },
  {
   "cell_type": "code",
   "execution_count": 31,
   "metadata": {},
   "outputs": [],
   "source": [
    "import time\n",
    "import csv\n",
    "\n",
    "dataset = []"
   ]
  },
  {
   "cell_type": "code",
   "execution_count": 32,
   "metadata": {},
   "outputs": [],
   "source": [
    "with open('aljazeera.csv', 'w') as output:\n",
    "    writer = csv.writer(output)\n",
    "    \n",
    "    writer.writerow(['date', 'title', 'summary', 'content'])\n",
    "    writer.writerows(data)"
   ]
  },
  {
   "cell_type": "code",
   "execution_count": 33,
   "metadata": {},
   "outputs": [],
   "source": [
    "def fetch_news(news_url):\n",
    "    data = []\n",
    "    #news tab\n",
    "    driver.get(news_url)\n",
    "    html = driver.find_element_by_css_selector('*').get_attribute(\"outerHTML\")\n",
    "    doc = pq(html)\n",
    "\n",
    "    title = doc('#article-page div.article-heading > h1').text()\n",
    "    summary = doc('#article-page div.article-heading > p').text()\n",
    "    date = doc('#article-page div.article-heading-author-wrap time').text()\n",
    "    content = doc('#main-article-block > div > div.article-p-wrapper').text()\n",
    "    \n",
    "    data.append(date)\n",
    "    data.append(title)\n",
    "    data.append(summary)\n",
    "    data.append(content)\n",
    "    \n",
    "    dataset.append(data)   "
   ]
  },
  {
   "cell_type": "code",
   "execution_count": 34,
   "metadata": {},
   "outputs": [],
   "source": [
    "driver.get(\"https://www.aljazeera.com/Search/?q=taiwan\")"
   ]
  },
  {
   "cell_type": "code",
   "execution_count": null,
   "metadata": {},
   "outputs": [],
   "source": [
    "while True:\n",
    "    try:\n",
    "        html = driver.find_element_by_css_selector('*').get_attribute(\"outerHTML\")\n",
    "        doc = pq(html)\n",
    "        doc.make_links_absolute(base_url= \"https://www.aljazeera.com\")\n",
    "\n",
    "        for each in doc('#ajSearchResults > div:nth-child(n+1) > div.col-sm-7.topics-sec-item-cont > a').items():\n",
    "\n",
    "            #js snippet\n",
    "            driver.execute_script(\"window.open('');\")\n",
    "\n",
    "            #switch driver to new tab\n",
    "            driver.switch_to.window(driver.window_handles[1])\n",
    "\n",
    "            news_url = each.attr(\"href\")\n",
    "            fetch_news(news_url)\n",
    "\n",
    "            #close new tab and switch back \n",
    "            driver.close()\n",
    "            driver.switch_to.window(driver.window_handles[0])\n",
    "\n",
    "        driver.find_element_by_css_selector('#search li.page-item.next-page > a').click()\n",
    "        time.sleep(3)\n",
    "    except Exception as e:\n",
    "        print(e)\n",
    "        break"
   ]
  },
  {
   "cell_type": "code",
   "execution_count": 30,
   "metadata": {},
   "outputs": [],
   "source": [
    "print(dataset)"
   ]
  },
  {
   "cell_type": "code",
   "execution_count": null,
   "metadata": {},
   "outputs": [],
   "source": []
  },
  {
   "cell_type": "code",
   "execution_count": null,
   "metadata": {},
   "outputs": [],
   "source": []
  },
  {
   "cell_type": "code",
   "execution_count": null,
   "metadata": {},
   "outputs": [],
   "source": []
  },
  {
   "cell_type": "code",
   "execution_count": null,
   "metadata": {},
   "outputs": [],
   "source": []
  }
 ],
 "metadata": {
  "kernelspec": {
   "display_name": "Python 3",
   "language": "python",
   "name": "python3"
  },
  "language_info": {
   "codemirror_mode": {
    "name": "ipython",
    "version": 3
   },
   "file_extension": ".py",
   "mimetype": "text/x-python",
   "name": "python",
   "nbconvert_exporter": "python",
   "pygments_lexer": "ipython3",
   "version": "3.7.0"
  }
 },
 "nbformat": 4,
 "nbformat_minor": 2
}
