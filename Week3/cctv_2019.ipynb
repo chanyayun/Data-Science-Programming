{
 "cells": [
  {
   "cell_type": "code",
   "execution_count": 7,
   "metadata": {},
   "outputs": [],
   "source": [
    "from selenium import webdriver\n",
    "from pyquery import PyQuery as pq"
   ]
  },
  {
   "cell_type": "code",
   "execution_count": 8,
   "metadata": {},
   "outputs": [],
   "source": [
    "import time"
   ]
  },
  {
   "cell_type": "code",
   "execution_count": 9,
   "metadata": {},
   "outputs": [],
   "source": [
    "driver = webdriver.Chrome(\"../../../../pytest/chromedriver.exe\")"
   ]
  },
  {
   "cell_type": "code",
   "execution_count": 10,
   "metadata": {},
   "outputs": [],
   "source": [
    "driver.get(\"https://search.cctv.com/search.php?qtext=%E5%8F%B0%E6%B9%BE&sort=date&type=web&vtime=&datepid=1&channel=%E6%96%B0%E9%97%BB&page=1\")"
   ]
  },
  {
   "cell_type": "code",
   "execution_count": 11,
   "metadata": {},
   "outputs": [],
   "source": [
    "html = driver.find_element_by_css_selector('*').get_attribute(\"outerHTML\")\n",
    "doc = pq(html)"
   ]
  },
  {
   "cell_type": "code",
   "execution_count": 12,
   "metadata": {},
   "outputs": [],
   "source": [
    "url = doc('#web_content_0')"
   ]
  },
  {
   "cell_type": "code",
   "execution_count": 13,
   "metadata": {},
   "outputs": [],
   "source": [
    "url = doc('#web_content_0').attr('href')\n",
    "url = url.split(\"?targetpage=\")[1]"
   ]
  },
  {
   "cell_type": "code",
   "execution_count": 18,
   "metadata": {},
   "outputs": [],
   "source": [
    "driver.find_element_by_css_selector('#web_content_0').click()\n",
    "driver.close()"
   ]
  },
  {
   "cell_type": "code",
   "execution_count": 22,
   "metadata": {},
   "outputs": [
    {
     "name": "stdout",
     "output_type": "stream",
     "text": [
      "1. 中华人民共和国和阿拉伯联合酋长国 关于加强全面战略伙伴关系的联合声明（全文）\n",
      "http://news.cctv.com/2019/07/23/ARTI9XJKbMcSLZEfQv4kcYmv190723.shtml&point=web_normal&ref=http%3A%2F%2Fhttps%3A%2F%2Fsearch.cctv.com%2Fsearch.php%3Fqtext%3D%E5%8F%B0%E6%B9%BE%26type%3Dweb%26sort%3Ddate%26vtime%3D%26datepid%3D1%26channel%3D%E6%96%B0%E9%97%BB%26page%3D1\n",
      "2. 百老汇音乐剧《狮子王》\n",
      "台湾\n",
      "演出受热捧\n",
      "http://news.cctv.com/2019/07/23/ARTIXmI08fNCwx617ocaLybd190723.shtml&point=web_normal&ref=http%3A%2F%2Fhttps%3A%2F%2Fsearch.cctv.com%2Fsearch.php%3Fqtext%3D%E5%8F%B0%E6%B9%BE%26type%3Dweb%26sort%3Ddate%26vtime%3D%26datepid%3D1%26channel%3D%E6%96%B0%E9%97%BB%26page%3D1\n",
      "3. 蔡英文随行人员走私香烟 团购者遍布蔡当局高层\n",
      "http://news.cctv.com/2019/07/23/ARTIR0J2eDYqZzovQI20GDQx190723.shtml&point=web_normal&ref=http%3A%2F%2Fhttps%3A%2F%2Fsearch.cctv.com%2Fsearch.php%3Fqtext%3D%E5%8F%B0%E6%B9%BE%26type%3Dweb%26sort%3Ddate%26vtime%3D%26datepid%3D1%26channel%3D%E6%96%B0%E9%97%BB%26page%3D1\n",
      "4. 随扈借“出访”走私9800条香烟被羁押 蔡英文震怒紧急切割\n",
      "http://news.cctv.com/2019/07/23/ARTId11ZrtuZucq5bmAxolOu190723.shtml&point=web_normal&ref=http%3A%2F%2Fhttps%3A%2F%2Fsearch.cctv.com%2Fsearch.php%3Fqtext%3D%E5%8F%B0%E6%B9%BE%26type%3Dweb%26sort%3Ddate%26vtime%3D%26datepid%3D1%26channel%3D%E6%96%B0%E9%97%BB%26page%3D1\n",
      "5. 蔡英文安保人员走私9800条烟 吴敦义怒斥:太丢脸\n",
      "http://news.cctv.com/2019/07/23/ARTIZ7rQJ73YNWJVPBnZglnJ190723.shtml&point=web_normal&ref=http%3A%2F%2Fhttps%3A%2F%2Fsearch.cctv.com%2Fsearch.php%3Fqtext%3D%E5%8F%B0%E6%B9%BE%26type%3Dweb%26sort%3Ddate%26vtime%3D%26datepid%3D1%26channel%3D%E6%96%B0%E9%97%BB%26page%3D1\n",
      "6. 世界500强企业公布 129家来自中国！国开行、中国中车、格力、小米等上榜\n",
      "http://news.cctv.com/2019/07/23/ARTI74FeAtOgtFCqYPF9JpLi190723.shtml&point=web_normal&ref=http%3A%2F%2Fhttps%3A%2F%2Fsearch.cctv.com%2Fsearch.php%3Fqtext%3D%E5%8F%B0%E6%B9%BE%26type%3Dweb%26sort%3Ddate%26vtime%3D%26datepid%3D1%26channel%3D%E6%96%B0%E9%97%BB%26page%3D1\n",
      "7. 台湾\n",
      "民众赴大陆旅游更多元 避暑、游学成新趋势\n",
      "http://news.cctv.com/2019/07/23/ARTIUHGWIYBePcsyOE1BQ6OS190723.shtml&point=web_normal&ref=http%3A%2F%2Fhttps%3A%2F%2Fsearch.cctv.com%2Fsearch.php%3Fqtext%3D%E5%8F%B0%E6%B9%BE%26type%3Dweb%26sort%3Ddate%26vtime%3D%26datepid%3D1%26channel%3D%E6%96%B0%E9%97%BB%26page%3D1\n",
      "8. 世界500强企业：中国上榜数首超美国 前五名占三位\n",
      "http://news.cctv.com/2019/07/22/ARTIvm3vvmbDB6W0p6xgM6X7190722.shtml&point=web_normal&ref=http%3A%2F%2Fhttps%3A%2F%2Fsearch.cctv.com%2Fsearch.php%3Fqtext%3D%E5%8F%B0%E6%B9%BE%26type%3Dweb%26sort%3Ddate%26vtime%3D%26datepid%3D1%26channel%3D%E6%96%B0%E9%97%BB%26page%3D1\n",
      "9. 蔡英文安全人员陪\"出访\" 疯狂走私免税烟9200条\n",
      "http://news.cctv.com/2019/07/22/ARTIWl9RvHFmkQBooZoNWkGJ190722.shtml&point=web_normal&ref=http%3A%2F%2Fhttps%3A%2F%2Fsearch.cctv.com%2Fsearch.php%3Fqtext%3D%E5%8F%B0%E6%B9%BE%26type%3Dweb%26sort%3Ddate%26vtime%3D%26datepid%3D1%26channel%3D%E6%96%B0%E9%97%BB%26page%3D1\n",
      "10. 基因造成拖延症•德国研究报告：可能只影响女性\n",
      "http://news.cctv.com/2019/07/22/ARTIQKX0wcKLRtzUvESGT82U190722.shtml&point=web_normal&ref=http%3A%2F%2Fhttps%3A%2F%2Fsearch.cctv.com%2Fsearch.php%3Fqtext%3D%E5%8F%B0%E6%B9%BE%26type%3Dweb%26sort%3Ddate%26vtime%3D%26datepid%3D1%26channel%3D%E6%96%B0%E9%97%BB%26page%3D1\n"
     ]
    }
   ],
   "source": [
    "for i in range(10):\n",
    "    news = doc('#web_content_' + str(i))\n",
    "    news_url = news.attr('href').split(\"?targetpage=\")[1]\n",
    "    news_title = news.text()\n",
    "    print(news_title)\n",
    "    print(news_url)"
   ]
  },
  {
   "cell_type": "code",
   "execution_count": null,
   "metadata": {},
   "outputs": [],
   "source": []
  },
  {
   "cell_type": "code",
   "execution_count": null,
   "metadata": {},
   "outputs": [],
   "source": []
  },
  {
   "cell_type": "code",
   "execution_count": null,
   "metadata": {},
   "outputs": [],
   "source": []
  }
 ],
 "metadata": {
  "kernelspec": {
   "display_name": "Python 3",
   "language": "python",
   "name": "python3"
  },
  "language_info": {
   "codemirror_mode": {
    "name": "ipython",
    "version": 3
   },
   "file_extension": ".py",
   "mimetype": "text/x-python",
   "name": "python",
   "nbconvert_exporter": "python",
   "pygments_lexer": "ipython3",
   "version": "3.7.0"
  }
 },
 "nbformat": 4,
 "nbformat_minor": 2
}
